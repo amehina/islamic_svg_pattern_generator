{
 "cells": [
  {
   "cell_type": "code",
   "execution_count": 156,
   "metadata": {},
   "outputs": [],
   "source": [
    "import drawSvg as draw\n",
    "import math\n",
    "import numpy as np\n",
    "from shapely.geometry import LineString, "
   ]
  },
  {
   "cell_type": "code",
   "execution_count": null,
   "metadata": {},
   "outputs": [],
   "source": [
    "line1 = LineString([(0,0), (1,0), (1,1)])\n",
    "line2 = LineString([(0,1), (1,1)])\n",
    "\n",
    "print(line1.intersection(line2))"
   ]
  },
  {
   "cell_type": "markdown",
   "metadata": {},
   "source": [
    "### Parameters"
   ]
  },
  {
   "cell_type": "code",
   "execution_count": 225,
   "metadata": {},
   "outputs": [],
   "source": [
    "WIDTH = 2\n",
    "HEIGHT = 2\n",
    "MAJOR_R = 0.9\n",
    "# 360 has to be divisible by this value\n",
    "NUM_POINTS = 12\n",
    "STROKE_WIDTH = 0.02\n",
    "SEPARATION = 7.5\n",
    "\n",
    "MAX_SEPARATION = 360 / 12"
   ]
  },
  {
   "cell_type": "code",
   "execution_count": 256,
   "metadata": {},
   "outputs": [],
   "source": [
    "SVG = draw.Drawing(WIDTH, HEIGHT, origin='center')\n",
    "\n",
    "# Helpers\n",
    "\n",
    "def get_line_string(sx,sy,ex,ey):\n",
    "    return LineString([(sx,sy), (ex,ey)])\n",
    "\n",
    "# Draw Construction Lines\n",
    "\n",
    "def add_line_to_svg(ps, color, stroke_width):\n",
    "    l = draw.Line(*ps, stroke=color, stroke_width=stroke_width)\n",
    "    l.shape = get_line_string(*ps)\n",
    "    SVG.append(l)\n",
    "    \n",
    "\n",
    "def draw_inner_squares(color, stroke_width):\n",
    "    for t in range(0, 360, round(360/NUM_POINTS)):\n",
    "        rad = np.deg2rad(t)\n",
    "        # sx, sy, ex, ey\n",
    "        ps = np.array((math.cos(rad + math.pi/2),\n",
    "                       math.sin(rad + math.pi/2), \n",
    "                       math.cos(rad), \n",
    "                       math.sin(rad)))*MAJOR_R\n",
    "        add_line_to_svg(ps, color, stroke_width)\n",
    "        \n",
    "def draw_inner_parallel_lines(color, stroke_width):\n",
    "    t_offset = np.deg2rad(SEPARATION)\n",
    "    for t in range(0, 180, round(360/NUM_POINTS)):\n",
    "        rad = np.deg2rad(t)\n",
    "        ps = np.array((math.cos(rad + math.pi + t_offset),\n",
    "                       math.sin(rad + math.pi + t_offset), \n",
    "                       math.cos(rad - t_offset), \n",
    "                       math.sin(rad - t_offset)))*MAJOR_R\n",
    "        add_line_to_svg(ps, color, stroke_width)\n",
    "\n",
    "\n",
    "        ps = np.array((math.cos(rad + math.pi - t_offset),\n",
    "                       math.sin(rad + math.pi - t_offset), \n",
    "                       math.cos(rad + t_offset), \n",
    "                       math.sin(rad + t_offset)))*MAJOR_R\n",
    "        add_line_to_svg(ps, color, stroke_width)\n",
    "\n",
    "# Draw another shape to fill with the same gradient\n",
    "p = draw.Circle(fill='transparent',cx=0,cy=0, r=MAJOR_R,stroke='red', stroke_width=STROKE_WIDTH)\n",
    "SVG.append(p)\n",
    "\n",
    "draw_inner_squares('red', STROKE_WIDTH/4)\n",
    "draw_inner_parallel_lines('blue', STROKE_WIDTH/4)"
   ]
  },
  {
   "cell_type": "code",
   "execution_count": 238,
   "metadata": {},
   "outputs": [
    {
     "data": {
      "image/svg+xml": [
       "<?xml version=\"1.0\" encoding=\"UTF-8\"?>\n",
       "<svg xmlns=\"http://www.w3.org/2000/svg\" xmlns:xlink=\"http://www.w3.org/1999/xlink\"\n",
       "     width=\"600\" height=\"600.0\" viewBox=\"-1.0 -1.0 2 2\">\n",
       "<defs>\n",
       "</defs>\n",
       "<circle cx=\"0\" cy=\"0\" r=\"0.9\" fill=\"transparent\" stroke=\"red\" stroke-width=\"0.02\" />\n",
       "<path d=\"M5.5109105961630896e-17,-0.9 L0.9,-0.0\" stroke=\"red\" stroke-width=\"0.005\" />\n",
       "<path d=\"M-0.4499999999999998,-0.7794228634059949 L0.7794228634059949,-0.44999999999999996\" stroke=\"red\" stroke-width=\"0.005\" />\n",
       "<path d=\"M-0.7794228634059946,-0.4500000000000003 L0.4500000000000001,-0.7794228634059948\" stroke=\"red\" stroke-width=\"0.005\" />\n",
       "<path d=\"M-0.9,-1.1021821192326179e-16 L5.5109105961630896e-17,-0.9\" stroke=\"red\" stroke-width=\"0.005\" />\n",
       "<path d=\"M-0.779422863405995,0.44999999999999973 L-0.4499999999999998,-0.7794228634059949\" stroke=\"red\" stroke-width=\"0.005\" />\n",
       "<path d=\"M-0.4499999999999997,0.779422863405995 L-0.7794228634059949,-0.44999999999999996\" stroke=\"red\" stroke-width=\"0.005\" />\n",
       "<path d=\"M-1.6532731788489269e-16,0.9 L-0.9,-1.1021821192326179e-16\" stroke=\"red\" stroke-width=\"0.005\" />\n",
       "<path d=\"M0.4500000000000001,0.7794228634059948 L-0.7794228634059948,0.4500000000000001\" stroke=\"red\" stroke-width=\"0.005\" />\n",
       "<path d=\"M0.7794228634059945,0.4500000000000004 L-0.4500000000000004,0.7794228634059946\" stroke=\"red\" stroke-width=\"0.005\" />\n",
       "<path d=\"M0.9,2.2043642384652358e-16 L-1.6532731788489269e-16,0.9\" stroke=\"red\" stroke-width=\"0.005\" />\n",
       "<path d=\"M0.7794228634059948,-0.45 L0.4500000000000001,0.7794228634059948\" stroke=\"red\" stroke-width=\"0.005\" />\n",
       "<path d=\"M0.4500000000000004,-0.7794228634059945 L0.7794228634059945,0.4500000000000004\" stroke=\"red\" stroke-width=\"0.005\" />\n",
       "<path d=\"M-0.8923003752364295,0.1174735729980462 L0.8923003752364294,0.11747357299804642\" stroke=\"blue\" stroke-width=\"0.005\" />\n",
       "<path d=\"M-0.8923003752364294,-0.11747357299804642 L0.8923003752364294,-0.11747357299804642\" stroke=\"blue\" stroke-width=\"0.005\" />\n",
       "<path d=\"M-0.7140180062621119,0.5478852861078483 L0.831491579260158,-0.3444150891285808\" stroke=\"blue\" stroke-width=\"0.005\" />\n",
       "<path d=\"M-0.8314915792601582,0.3444150891285807 L0.7140180062621118,-0.5478852861078485\" stroke=\"blue\" stroke-width=\"0.005\" />\n",
       "<path d=\"M-0.3444150891285813,0.8314915792601579 L0.5478852861078486,-0.7140180062621116\" stroke=\"blue\" stroke-width=\"0.005\" />\n",
       "<path d=\"M-0.5478852861078488,0.7140180062621114 L0.3444150891285809,-0.831491579260158\" stroke=\"blue\" stroke-width=\"0.005\" />\n",
       "<path d=\"M0.11747357299804614,0.8923003752364295 L0.11747357299804655,-0.8923003752364294\" stroke=\"blue\" stroke-width=\"0.005\" />\n",
       "<path d=\"M-0.11747357299804646,0.8923003752364294 L-0.11747357299804645,-0.8923003752364294\" stroke=\"blue\" stroke-width=\"0.005\" />\n",
       "<path d=\"M0.5478852861078479,0.7140180062621122 L-0.34441508912858054,-0.8314915792601582\" stroke=\"blue\" stroke-width=\"0.005\" />\n",
       "<path d=\"M0.34441508912858027,0.8314915792601583 L-0.5478852861078483,-0.7140180062621119\" stroke=\"blue\" stroke-width=\"0.005\" />\n",
       "<path d=\"M0.8314915792601582,0.3444150891285806 L-0.7140180062621118,-0.5478852861078484\" stroke=\"blue\" stroke-width=\"0.005\" />\n",
       "<path d=\"M0.714018006262112,0.5478852861078483 L-0.831491579260158,-0.34441508912858093\" stroke=\"blue\" stroke-width=\"0.005\" />\n",
       "</svg>"
      ],
      "text/plain": [
       "<drawSvg.drawing.Drawing at 0x2b4dfaf1a48>"
      ]
     },
     "execution_count": 238,
     "metadata": {},
     "output_type": "execute_result"
    }
   ],
   "source": [
    "SVG.setRenderSize(w=600)"
   ]
  },
  {
   "cell_type": "code",
   "execution_count": null,
   "metadata": {},
   "outputs": [],
   "source": [
    "lines[0]"
   ]
  },
  {
   "cell_type": "code",
   "execution_count": 292,
   "metadata": {},
   "outputs": [],
   "source": [
    "lines = [e.shape for e in SVG.elements[1:]]\n",
    "r_ps = []\n",
    "for i in range(NUM_POINTS):\n",
    "    "
   ]
  },
  {
   "cell_type": "code",
   "execution_count": 300,
   "metadata": {},
   "outputs": [
    {
     "name": "stdout",
     "output_type": "stream",
     "text": [
      "POINT (0.3294228634059948 0.5705771365940052)\n",
      "POINT (0.1901923788646684 0.7098076211353316)\n",
      "POINT (5.51091059616309e-17 0.9)\n",
      "LINESTRING EMPTY\n",
      "LINESTRING EMPTY\n",
      "LINESTRING EMPTY\n",
      "LINESTRING EMPTY\n",
      "LINESTRING EMPTY\n",
      "LINESTRING EMPTY\n",
      "POINT (0.7098076211353316 0.1901923788646684)\n",
      "POINT (0.5705771365940053 0.3294228634059947)\n",
      "LINESTRING EMPTY\n",
      "POINT (0.7825264270019536 0.1174735729980464)\n",
      "POINT (0.6565737605752265 0.2434262394247735)\n",
      "POINT (0.484580512612784 0.4154194873872161)\n",
      "POINT (0.4154194873872161 0.4845805126127839)\n",
      "POINT (0.2434262394247735 0.6565737605752265)\n",
      "POINT (0.1174735729980465 0.7825264270019534)\n",
      "LINESTRING EMPTY\n",
      "LINESTRING EMPTY\n",
      "LINESTRING EMPTY\n",
      "LINESTRING EMPTY\n",
      "LINESTRING EMPTY\n"
     ]
    }
   ],
   "source": [
    "for x in lines[1:]:\n",
    "    p = lines[0].intersection(x)\n",
    "    print(p)"
   ]
  },
  {
   "cell_type": "code",
   "execution_count": 297,
   "metadata": {},
   "outputs": [
    {
     "name": "stdout",
     "output_type": "stream",
     "text": [
      "LINESTRING EMPTY\n"
     ]
    }
   ],
   "source": [
    "print(p)"
   ]
  },
  {
   "cell_type": "code",
   "execution_count": 279,
   "metadata": {},
   "outputs": [
    {
     "data": {
      "image/svg+xml": [
       "<svg xmlns=\"http://www.w3.org/2000/svg\" xmlns:xlink=\"http://www.w3.org/1999/xlink\" width=\"100.0\" height=\"100.0\" viewBox=\"-0.03599999999999995 -0.036000000000000004 0.972 0.9720000000000001\" preserveAspectRatio=\"xMinYMin meet\"><g transform=\"matrix(1,0,0,-1,0,0.9)\"><polyline fill=\"none\" stroke=\"#66cc99\" stroke-width=\"0.019440000000000002\" points=\"5.5109105961630896e-17,0.9 0.9,0.0\" opacity=\"0.8\" /></g></svg>"
      ],
      "text/plain": [
       "<shapely.geometry.linestring.LineString at 0x2b4dec211c8>"
      ]
     },
     "execution_count": 279,
     "metadata": {},
     "output_type": "execute_result"
    }
   ],
   "source": [
    "lines[0].shape"
   ]
  },
  {
   "cell_type": "code",
   "execution_count": 285,
   "metadata": {},
   "outputs": [
    {
     "data": {
      "image/svg+xml": [
       "<svg xmlns=\"http://www.w3.org/2000/svg\" xmlns:xlink=\"http://www.w3.org/1999/xlink\" width=\"100.0\" height=\"100.0\" viewBox=\"-0.8933119626810488 -0.6097056695287391 1.6691503523640516 1.0159411420782107\" preserveAspectRatio=\"xMinYMin meet\"><g transform=\"matrix(1,0,0,-1,0,-0.20347019697926733)\"><polyline fill=\"none\" stroke=\"#66cc99\" stroke-width=\"0.03338300704728103\" points=\"0.714018006262112,-0.5478852861078483 -0.831491579260158,0.34441508912858093\" opacity=\"0.8\" /></g></svg>"
      ],
      "text/plain": [
       "<shapely.geometry.linestring.LineString at 0x2b4dfb1a8c8>"
      ]
     },
     "execution_count": 285,
     "metadata": {},
     "output_type": "execute_result"
    }
   ],
   "source": [
    "lines[-1].shape"
   ]
  },
  {
   "cell_type": "code",
   "execution_count": 261,
   "metadata": {},
   "outputs": [
    {
     "name": "stdout",
     "output_type": "stream",
     "text": [
      "LINESTRING (5.51091059616309e-17 0.9, 0.9 0)\n",
      "LINESTRING (-0.4499999999999998 0.7794228634059949, 0.7794228634059949 0.45)\n",
      "LINESTRING (-0.7794228634059946 0.4500000000000003, 0.4500000000000001 0.7794228634059948)\n",
      "LINESTRING (-0.9 1.102182119232618e-16, 5.51091059616309e-17 0.9)\n",
      "LINESTRING (-0.779422863405995 -0.4499999999999997, -0.4499999999999998 0.7794228634059949)\n",
      "LINESTRING (-0.4499999999999997 -0.779422863405995, -0.7794228634059949 0.45)\n",
      "LINESTRING (-1.653273178848927e-16 -0.9, -0.9 1.102182119232618e-16)\n",
      "LINESTRING (0.4500000000000001 -0.7794228634059948, -0.7794228634059948 -0.4500000000000001)\n",
      "LINESTRING (0.7794228634059945 -0.4500000000000004, -0.4500000000000004 -0.7794228634059946)\n",
      "LINESTRING (0.9 -2.204364238465236e-16, -1.653273178848927e-16 -0.9)\n",
      "LINESTRING (0.7794228634059948 0.45, 0.4500000000000001 -0.7794228634059948)\n",
      "LINESTRING (0.4500000000000004 0.7794228634059945, 0.7794228634059945 -0.4500000000000004)\n",
      "LINESTRING (-0.8923003752364295 -0.1174735729980462, 0.8923003752364294 -0.1174735729980464)\n",
      "LINESTRING (-0.8923003752364294 0.1174735729980464, 0.8923003752364294 0.1174735729980464)\n",
      "LINESTRING (-0.7140180062621119 -0.5478852861078483, 0.831491579260158 0.3444150891285808)\n",
      "LINESTRING (-0.8314915792601582 -0.3444150891285807, 0.7140180062621118 0.5478852861078485)\n",
      "LINESTRING (-0.3444150891285813 -0.8314915792601579, 0.5478852861078486 0.7140180062621116)\n",
      "LINESTRING (-0.5478852861078488 -0.7140180062621114, 0.3444150891285809 0.831491579260158)\n",
      "LINESTRING (0.1174735729980461 -0.8923003752364295, 0.1174735729980465 0.8923003752364294)\n",
      "LINESTRING (-0.1174735729980465 -0.8923003752364294, -0.1174735729980464 0.8923003752364294)\n",
      "LINESTRING (0.5478852861078479 -0.7140180062621122, -0.3444150891285805 0.8314915792601582)\n",
      "LINESTRING (0.3444150891285803 -0.8314915792601583, -0.5478852861078483 0.7140180062621119)\n",
      "LINESTRING (0.8314915792601582 -0.3444150891285806, -0.7140180062621118 0.5478852861078484)\n",
      "LINESTRING (0.714018006262112 -0.5478852861078483, -0.831491579260158 0.3444150891285809)\n"
     ]
    }
   ],
   "source": [
    "for l in lines:\n",
    "    print(l.shape)"
   ]
  },
  {
   "cell_type": "code",
   "execution_count": 154,
   "metadata": {},
   "outputs": [
    {
     "data": {
      "text/plain": [
       "{'cx': 0,\n",
       " 'cy': 0,\n",
       " 'r': 1,\n",
       " 'fill': 'transparent',\n",
       " 'stroke': 'red',\n",
       " 'stroke-width': 0.02}"
      ]
     },
     "execution_count": 154,
     "metadata": {},
     "output_type": "execute_result"
    }
   ],
   "source": [
    "d.allElements()[0].args"
   ]
  },
  {
   "cell_type": "code",
   "execution_count": null,
   "metadata": {},
   "outputs": [],
   "source": []
  },
  {
   "cell_type": "code",
   "execution_count": null,
   "metadata": {},
   "outputs": [],
   "source": []
  }
 ],
 "metadata": {
  "kernelspec": {
   "display_name": "Python 3",
   "language": "python",
   "name": "python3"
  },
  "language_info": {
   "codemirror_mode": {
    "name": "ipython",
    "version": 3
   },
   "file_extension": ".py",
   "mimetype": "text/x-python",
   "name": "python",
   "nbconvert_exporter": "python",
   "pygments_lexer": "ipython3",
   "version": "3.7.4"
  }
 },
 "nbformat": 4,
 "nbformat_minor": 2
}
