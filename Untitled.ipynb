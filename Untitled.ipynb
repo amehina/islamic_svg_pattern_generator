{
 "cells": [
  {
   "cell_type": "code",
   "execution_count": 68,
   "metadata": {},
   "outputs": [],
   "source": [
    "import drawSvg as draw\n",
    "import math\n",
    "import numpy as np"
   ]
  },
  {
   "cell_type": "code",
   "execution_count": 149,
   "metadata": {},
   "outputs": [],
   "source": [
    "# Parameters\n",
    "WIDTH = 2\n",
    "HEIGHT = 2\n",
    "MAJOR_R = 1\n",
    "# 360 has to be divisible by this value\n",
    "NUM_POINTS = 12\n",
    "STROKE_WIDTH = 0.02\n",
    "SEPARATION = 7.5\n",
    "\n",
    "MAX_SEPARATION = 360 / 12"
   ]
  },
  {
   "cell_type": "code",
   "execution_count": 150,
   "metadata": {},
   "outputs": [
    {
     "data": {
      "image/svg+xml": [
       "<?xml version=\"1.0\" encoding=\"UTF-8\"?>\n",
       "<svg xmlns=\"http://www.w3.org/2000/svg\" xmlns:xlink=\"http://www.w3.org/1999/xlink\"\n",
       "     width=\"600\" height=\"600.0\" viewBox=\"-1.0 -1.0 2 2\">\n",
       "<defs>\n",
       "</defs>\n",
       "<circle cx=\"0\" cy=\"0\" r=\"1\" fill=\"transparent\" stroke=\"red\" stroke-width=\"0.02\" />\n",
       "<path d=\"M6.123233995736766e-17,-1.0 L1.0,-0.0\" stroke=\"red\" stroke-width=\"0.01\" />\n",
       "<path d=\"M-0.4999999999999998,-0.8660254037844387 L0.8660254037844387,-0.49999999999999994\" stroke=\"red\" stroke-width=\"0.01\" />\n",
       "<path d=\"M-0.8660254037844385,-0.5000000000000003 L0.5000000000000001,-0.8660254037844386\" stroke=\"red\" stroke-width=\"0.01\" />\n",
       "<path d=\"M-1.0,-1.2246467991473532e-16 L6.123233995736766e-17,-1.0\" stroke=\"red\" stroke-width=\"0.01\" />\n",
       "<path d=\"M-0.8660254037844388,0.4999999999999997 L-0.4999999999999998,-0.8660254037844387\" stroke=\"red\" stroke-width=\"0.01\" />\n",
       "<path d=\"M-0.4999999999999996,0.8660254037844388 L-0.8660254037844387,-0.49999999999999994\" stroke=\"red\" stroke-width=\"0.01\" />\n",
       "<path d=\"M-1.8369701987210297e-16,1.0 L-1.0,-1.2246467991473532e-16\" stroke=\"red\" stroke-width=\"0.01\" />\n",
       "<path d=\"M0.5000000000000001,0.8660254037844386 L-0.8660254037844386,0.5000000000000001\" stroke=\"red\" stroke-width=\"0.01\" />\n",
       "<path d=\"M0.8660254037844384,0.5000000000000004 L-0.5000000000000004,0.8660254037844385\" stroke=\"red\" stroke-width=\"0.01\" />\n",
       "<path d=\"M1.0,2.4492935982947064e-16 L-1.8369701987210297e-16,1.0\" stroke=\"red\" stroke-width=\"0.01\" />\n",
       "<path d=\"M0.8660254037844386,-0.5 L0.5000000000000001,0.8660254037844386\" stroke=\"red\" stroke-width=\"0.01\" />\n",
       "<path d=\"M0.5000000000000004,-0.8660254037844384 L0.8660254037844384,0.5000000000000004\" stroke=\"red\" stroke-width=\"0.01\" />\n",
       "<path d=\"M-0.9914448613738105,0.13052619222005132 L0.9914448613738104,0.13052619222005157\" stroke=\"blue\" stroke-width=\"0.01\" />\n",
       "<path d=\"M-0.9914448613738104,-0.13052619222005157 L0.9914448613738104,-0.13052619222005157\" stroke=\"blue\" stroke-width=\"0.01\" />\n",
       "<path d=\"M-0.7933533402912354,0.6087614290087203 L0.9238795325112867,-0.3826834323650898\" stroke=\"blue\" stroke-width=\"0.01\" />\n",
       "<path d=\"M-0.9238795325112868,0.38268343236508967 L0.7933533402912353,-0.6087614290087205\" stroke=\"blue\" stroke-width=\"0.01\" />\n",
       "<path d=\"M-0.38268343236509034,0.9238795325112865 L0.6087614290087207,-0.7933533402912352\" stroke=\"blue\" stroke-width=\"0.01\" />\n",
       "<path d=\"M-0.6087614290087209,0.7933533402912349 L0.38268343236508984,-0.9238795325112867\" stroke=\"blue\" stroke-width=\"0.01\" />\n",
       "<path d=\"M0.13052619222005127,0.9914448613738105 L0.1305261922200517,-0.9914448613738104\" stroke=\"blue\" stroke-width=\"0.01\" />\n",
       "<path d=\"M-0.13052619222005163,0.9914448613738104 L-0.1305261922200516,-0.9914448613738104\" stroke=\"blue\" stroke-width=\"0.01\" />\n",
       "<path d=\"M0.6087614290087199,0.7933533402912357 L-0.3826834323650895,-0.9238795325112868\" stroke=\"blue\" stroke-width=\"0.01\" />\n",
       "<path d=\"M0.38268343236508917,0.923879532511287 L-0.6087614290087203,-0.7933533402912354\" stroke=\"blue\" stroke-width=\"0.01\" />\n",
       "<path d=\"M0.9238795325112868,0.38268343236508956 L-0.7933533402912353,-0.6087614290087204\" stroke=\"blue\" stroke-width=\"0.01\" />\n",
       "<path d=\"M0.7933533402912355,0.6087614290087202 L-0.9238795325112867,-0.3826834323650899\" stroke=\"blue\" stroke-width=\"0.01\" />\n",
       "</svg>"
      ],
      "text/plain": [
       "<drawSvg.drawing.Drawing at 0x2b4deefee08>"
      ]
     },
     "execution_count": 150,
     "metadata": {},
     "output_type": "execute_result"
    }
   ],
   "source": [
    "d = draw.Drawing(WIDTH, HEIGHT, origin='center')\n",
    "# Draw another shape to fill with the same gradient\n",
    "p = draw.Circle(fill='transparent',cx=0,cy=0, r=MAJOR_R,stroke='red', stroke_width=STROKE_WIDTH)\n",
    "d.append(p)\n",
    "\n",
    "for t in range(0, 360, round(360/NUM_POINTS)):\n",
    "    rad = np.deg2rad(t)\n",
    "    sx = (math.cos(rad + math.pi/2))*MAJOR_R\n",
    "    sy = (math.sin(rad + math.pi/2))*MAJOR_R\n",
    "    ex = math.cos(rad)*MAJOR_R\n",
    "    ey = math.sin(rad)*MAJOR_R\n",
    "    d.append(draw.Line(sx,sy,ex,ey, stroke='red', stroke_width=STROKE_WIDTH/2))\n",
    "\n",
    "t_offset = np.deg2rad(SEPARATION)\n",
    "for t in range(0, 180, round(360/NUM_POINTS)):\n",
    "    rad = np.deg2rad(t)\n",
    "\n",
    "    sx = (math.cos(rad + math.pi + t_offset))*MAJOR_R\n",
    "    sy = (math.sin(rad + math.pi + t_offset))*MAJOR_R\n",
    "    ex = math.cos(rad - t_offset)*MAJOR_R\n",
    "    ey = math.sin(rad - t_offset)*MAJOR_R\n",
    "    \n",
    "    d.append(draw.Line(sx,sy,ex,ey, stroke='blue', stroke_width=STROKE_WIDTH/2))\n",
    "\n",
    "    sx = (math.cos(rad + math.pi - t_offset))*MAJOR_R\n",
    "    sy = (math.sin(rad + math.pi - t_offset))*MAJOR_R\n",
    "    ex = math.cos(rad + t_offset)*MAJOR_R\n",
    "    ey = math.sin(rad + t_offset)*MAJOR_R\n",
    "    \n",
    "    d.append(draw.Line(sx,sy,ex,ey, stroke='blue', stroke_width=STROKE_WIDTH/2))\n",
    "    \n",
    "# Display\n",
    "d.setRenderSize(w=600)\n",
    "d"
   ]
  },
  {
   "cell_type": "code",
   "execution_count": null,
   "metadata": {},
   "outputs": [],
   "source": []
  },
  {
   "cell_type": "code",
   "execution_count": null,
   "metadata": {},
   "outputs": [],
   "source": []
  }
 ],
 "metadata": {
  "kernelspec": {
   "display_name": "Python 3",
   "language": "python",
   "name": "python3"
  },
  "language_info": {
   "codemirror_mode": {
    "name": "ipython",
    "version": 3
   },
   "file_extension": ".py",
   "mimetype": "text/x-python",
   "name": "python",
   "nbconvert_exporter": "python",
   "pygments_lexer": "ipython3",
   "version": "3.7.4"
  }
 },
 "nbformat": 4,
 "nbformat_minor": 2
}
