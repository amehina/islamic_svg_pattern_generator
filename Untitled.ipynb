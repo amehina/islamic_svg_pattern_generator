{
 "cells": [
  {
   "cell_type": "code",
   "execution_count": 156,
   "metadata": {},
   "outputs": [],
   "source": [
    "import drawSvg as draw\n",
    "import math\n",
    "import numpy as np\n",
    "from shapely.geometry import LineString, "
   ]
  },
  {
   "cell_type": "code",
   "execution_count": null,
   "metadata": {},
   "outputs": [],
   "source": [
    "line1 = LineString([(0,0), (1,0), (1,1)])\n",
    "line2 = LineString([(0,1), (1,1)])\n",
    "\n",
    "print(line1.intersection(line2))"
   ]
  },
  {
   "cell_type": "markdown",
   "metadata": {},
   "source": [
    "### Parameters"
   ]
  },
  {
   "cell_type": "code",
   "execution_count": 186,
   "metadata": {},
   "outputs": [],
   "source": [
    "WIDTH = 2\n",
    "HEIGHT = 2\n",
    "MAJOR_R = 1\n",
    "# 360 has to be divisible by this value\n",
    "NUM_POINTS = 12\n",
    "STROKE_WIDTH = 0.02\n",
    "SEPARATION = 7.5\n",
    "\n",
    "MAX_SEPARATION = 360 / 12"
   ]
  },
  {
   "cell_type": "markdown",
   "metadata": {},
   "source": [
    "### Helpers"
   ]
  },
  {
   "cell_type": "code",
   "execution_count": 187,
   "metadata": {},
   "outputs": [],
   "source": [
    "def get_line_string(sx,sy,ex,ey):\n",
    "    return LineString([(sx,sy), (ex,ey)])"
   ]
  },
  {
   "cell_type": "markdown",
   "metadata": {},
   "source": [
    "### Drawing Functions"
   ]
  },
  {
   "cell_type": "code",
   "execution_count": 185,
   "metadata": {},
   "outputs": [],
   "source": [
    "\n",
    "def draw_inner_squares(color, stroke_width):\n",
    "    for t in range(0, 360, round(360/NUM_POINTS)):\n",
    "        rad = np.deg2rad(t)\n",
    "        # sx, sy, ex, ey\n",
    "        ps = np.array((math.cos(rad + math.pi/2),\n",
    "                       math.sin(rad + math.pi/2), \n",
    "                       math.cos(rad), \n",
    "                       math.sin(rad)))*MAJOR_R\n",
    "        l = draw.Line(*ps, stroke=color, stroke_width=stroke_width)\n",
    "        l.shape = get_line_string(*ps)\n",
    "        SVG.append(l)\n",
    "        \n",
    "def draw_inner_parallel_lines(color, stroke_width):\n",
    "    t_offset = np.deg2rad(SEPARATION)\n",
    "    for t in range(0, 180, round(360/NUM_POINTS)):\n",
    "        rad = np.deg2rad(t)\n",
    "        ps = np.array((math.cos(rad + math.pi + t_offset),\n",
    "                       math.sin(rad + math.pi + t_offset), \n",
    "                       math.cos(rad - t_offset), \n",
    "                       math.sin(rad - t_offset)))*MAJOR_R\n",
    "        l = draw.Line(*ps, stroke='blue', stroke_width=STROKE_WIDTH/2)\n",
    "        d.append(l)\n",
    "\n",
    "        ps = np.array((math.cos(rad + math.pi - t_offset),\n",
    "                       math.sin(rad + math.pi - t_offset), \n",
    "                       math.cos(rad + t_offset), \n",
    "                       math.sin(rad + t_offset)))*MAJOR_R\n",
    "        l = draw.Line(*ps, stroke='blue', stroke_width=STROKE_WIDTH/2)\n",
    "    SVG.append(draw.Line(*ps, stroke='blue')"
   ]
  },
  {
   "cell_type": "code",
   "execution_count": 184,
   "metadata": {},
   "outputs": [
    {
     "ename": "SyntaxError",
     "evalue": "invalid syntax (<ipython-input-184-e13a2e67825b>, line 38)",
     "output_type": "error",
     "traceback": [
      "\u001b[1;36m  File \u001b[1;32m\"<ipython-input-184-e13a2e67825b>\"\u001b[1;36m, line \u001b[1;32m38\u001b[0m\n\u001b[1;33m    SVG.setRenderSize(w=600)\u001b[0m\n\u001b[1;37m      ^\u001b[0m\n\u001b[1;31mSyntaxError\u001b[0m\u001b[1;31m:\u001b[0m invalid syntax\n"
     ]
    }
   ],
   "source": [
    "SVG = draw.Drawing(WIDTH, HEIGHT, origin='center')\n",
    "# Draw another shape to fill with the same gradient\n",
    "p = draw.Circle(fill='transparent',cx=0,cy=0, r=MAJOR_R,stroke='red', stroke_width=STROKE_WIDTH)\n",
    "d.append(p)\n",
    "\n",
    "\n",
    "\n",
    "\n",
    "\n",
    "    \n",
    "# Display\n",
    "SVG.setRenderSize(w=600)\n",
    "SVG"
   ]
  },
  {
   "cell_type": "code",
   "execution_count": 154,
   "metadata": {},
   "outputs": [
    {
     "data": {
      "text/plain": [
       "{'cx': 0,\n",
       " 'cy': 0,\n",
       " 'r': 1,\n",
       " 'fill': 'transparent',\n",
       " 'stroke': 'red',\n",
       " 'stroke-width': 0.02}"
      ]
     },
     "execution_count": 154,
     "metadata": {},
     "output_type": "execute_result"
    }
   ],
   "source": [
    "d.allElements()[0].args"
   ]
  },
  {
   "cell_type": "code",
   "execution_count": null,
   "metadata": {},
   "outputs": [],
   "source": []
  },
  {
   "cell_type": "code",
   "execution_count": null,
   "metadata": {},
   "outputs": [],
   "source": []
  }
 ],
 "metadata": {
  "kernelspec": {
   "display_name": "Python 3",
   "language": "python",
   "name": "python3"
  },
  "language_info": {
   "codemirror_mode": {
    "name": "ipython",
    "version": 3
   },
   "file_extension": ".py",
   "mimetype": "text/x-python",
   "name": "python",
   "nbconvert_exporter": "python",
   "pygments_lexer": "ipython3",
   "version": "3.7.4"
  }
 },
 "nbformat": 4,
 "nbformat_minor": 2
}
