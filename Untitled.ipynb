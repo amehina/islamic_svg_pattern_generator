{
 "cells": [
  {
   "cell_type": "code",
   "execution_count": 68,
   "metadata": {},
   "outputs": [],
   "source": [
    "import drawSvg as draw\n",
    "import math\n",
    "import numpy as np"
   ]
  },
  {
   "cell_type": "code",
   "execution_count": 138,
   "metadata": {},
   "outputs": [],
   "source": [
    "# Parameters\n",
    "WIDTH = 2\n",
    "HEIGHT = 2\n",
    "MAJOR_R = 0.5\n",
    "# 360 has to be divisible by this value\n",
    "NUM_POINTS = 12\n",
    "STROKE_WIDTH = 0.02\n",
    "SEPARATION = 12\n",
    "\n",
    "MAX_SEPARATION = 360 / 12"
   ]
  },
  {
   "cell_type": "code",
   "execution_count": 140,
   "metadata": {},
   "outputs": [
    {
     "data": {
      "image/svg+xml": [
       "<?xml version=\"1.0\" encoding=\"UTF-8\"?>\n",
       "<svg xmlns=\"http://www.w3.org/2000/svg\" xmlns:xlink=\"http://www.w3.org/1999/xlink\"\n",
       "     width=\"600\" height=\"600.0\" viewBox=\"-1.0 -1.0 2 2\">\n",
       "<defs>\n",
       "</defs>\n",
       "<circle cx=\"0\" cy=\"0\" r=\"0.5\" fill=\"transparent\" stroke=\"red\" stroke-width=\"0.02\" />\n",
       "<path d=\"M3.061616997868383e-17,-0.5 L0.5,-0.0\" stroke=\"red\" stroke-width=\"0.01\" />\n",
       "<path d=\"M-0.2499999999999999,-0.43301270189221935 L0.43301270189221935,-0.24999999999999997\" stroke=\"red\" stroke-width=\"0.01\" />\n",
       "<path d=\"M-0.43301270189221924,-0.25000000000000017 L0.25000000000000006,-0.4330127018922193\" stroke=\"red\" stroke-width=\"0.01\" />\n",
       "<path d=\"M-0.5,-6.123233995736766e-17 L3.061616997868383e-17,-0.5\" stroke=\"red\" stroke-width=\"0.01\" />\n",
       "<path d=\"M-0.4330127018922194,0.24999999999999986 L-0.2499999999999999,-0.43301270189221935\" stroke=\"red\" stroke-width=\"0.01\" />\n",
       "<path d=\"M-0.2499999999999998,0.4330127018922194 L-0.43301270189221935,-0.24999999999999997\" stroke=\"red\" stroke-width=\"0.01\" />\n",
       "<path d=\"M-9.184850993605148e-17,0.5 L-0.5,-6.123233995736766e-17\" stroke=\"red\" stroke-width=\"0.01\" />\n",
       "<path d=\"M0.25000000000000006,0.4330127018922193 L-0.4330127018922193,0.25000000000000006\" stroke=\"red\" stroke-width=\"0.01\" />\n",
       "<path d=\"M0.4330127018922192,0.2500000000000002 L-0.2500000000000002,0.43301270189221924\" stroke=\"red\" stroke-width=\"0.01\" />\n",
       "<path d=\"M0.5,1.2246467991473532e-16 L-9.184850993605148e-17,0.5\" stroke=\"red\" stroke-width=\"0.01\" />\n",
       "<path d=\"M0.4330127018922193,-0.25 L0.25000000000000006,0.4330127018922193\" stroke=\"red\" stroke-width=\"0.01\" />\n",
       "<path d=\"M0.2500000000000002,-0.4330127018922192 L0.4330127018922192,0.2500000000000002\" stroke=\"red\" stroke-width=\"0.01\" />\n",
       "<path d=\"M-0.48907380036690284,0.10395584540887953 L0.48907380036690284,0.10395584540887967\" stroke=\"blue\" stroke-width=\"0.01\" />\n",
       "<path d=\"M-0.48907380036690284,-0.10395584540887966 L0.48907380036690284,-0.10395584540887967\" stroke=\"blue\" stroke-width=\"0.01\" />\n",
       "<path d=\"M-0.37157241273869723,0.33456530317942895 L0.4755282581475768,-0.15450849718747367\" stroke=\"blue\" stroke-width=\"0.01\" />\n",
       "<path d=\"M-0.4755282581475768,0.15450849718747364 L0.3715724127386972,-0.33456530317942906\" stroke=\"blue\" stroke-width=\"0.01\" />\n",
       "<path d=\"M-0.15450849718747378,0.47552825814757677 L0.3345653031794292,-0.37157241273869707\" stroke=\"blue\" stroke-width=\"0.01\" />\n",
       "<path d=\"M-0.33456530317942923,0.371572412738697 L0.15450849718747373,-0.47552825814757677\" stroke=\"blue\" stroke-width=\"0.01\" />\n",
       "<path d=\"M0.10395584540887971,0.4890738003669028 L0.10395584540887973,-0.4890738003669028\" stroke=\"blue\" stroke-width=\"0.01\" />\n",
       "<path d=\"M-0.1039558454088799,0.4890738003669028 L-0.10395584540887967,-0.48907380036690284\" stroke=\"blue\" stroke-width=\"0.01\" />\n",
       "<path d=\"M0.3345653031794289,0.3715724127386973 L-0.15450849718747356,-0.4755282581475768\" stroke=\"blue\" stroke-width=\"0.01\" />\n",
       "<path d=\"M0.1545084971874732,0.47552825814757693 L-0.33456530317942895,-0.37157241273869723\" stroke=\"blue\" stroke-width=\"0.01\" />\n",
       "<path d=\"M0.4755282581475769,0.1545084971874734 L-0.3715724127386972,-0.334565303179429\" stroke=\"blue\" stroke-width=\"0.01\" />\n",
       "<path d=\"M0.3715724127386971,0.33456530317942906 L-0.47552825814757677,-0.15450849718747375\" stroke=\"blue\" stroke-width=\"0.01\" />\n",
       "</svg>"
      ],
      "text/plain": [
       "<drawSvg.drawing.Drawing at 0x2b4deb7b2c8>"
      ]
     },
     "execution_count": 140,
     "metadata": {},
     "output_type": "execute_result"
    }
   ],
   "source": [
    "d = draw.Drawing(WIDTH, HEIGHT, origin='center')\n",
    "# Draw another shape to fill with the same gradient\n",
    "p = draw.Circle(fill='transparent',cx=0,cy=0, r=MAJOR_R,stroke='red', stroke_width=STROKE_WIDTH)\n",
    "d.append(p)\n",
    "\n",
    "for t in range(0, 360, round(360/NUM_POINTS)):\n",
    "    rad = np.deg2rad(t)\n",
    "    sx = (math.cos(rad + math.pi/2))*MAJOR_R\n",
    "    sy = (math.sin(rad + math.pi/2))*MAJOR_R\n",
    "    ex = math.cos(rad)*MAJOR_R\n",
    "    ey = math.sin(rad)*MAJOR_R\n",
    "    d.append(draw.Line(sx,sy,ex,ey, stroke='red', stroke_width=STROKE_WIDTH/2))\n",
    "\n",
    "t_offset = np.deg2rad(SEPARATION)\n",
    "for t in range(0, 180, round(360/NUM_POINTS)):\n",
    "    rad = np.deg2rad(t)\n",
    "\n",
    "    sx = (math.cos(rad + math.pi + t_offset))*MAJOR_R\n",
    "    sy = (math.sin(rad + math.pi + t_offset))*MAJOR_R\n",
    "    ex = math.cos(rad - t_offset)*MAJOR_R\n",
    "    ey = math.sin(rad - t_offset)*MAJOR_R\n",
    "    \n",
    "    d.append(draw.Line(sx,sy,ex,ey, stroke='blue', stroke_width=STROKE_WIDTH/2))\n",
    "\n",
    "    sx = (math.cos(rad + math.pi - t_offset))*MAJOR_R\n",
    "    sy = (math.sin(rad + math.pi - t_offset))*MAJOR_R\n",
    "    ex = math.cos(rad + t_offset)*MAJOR_R\n",
    "    ey = math.sin(rad + t_offset)*MAJOR_R\n",
    "    \n",
    "    d.append(draw.Line(sx,sy,ex,ey, stroke='blue', stroke_width=STROKE_WIDTH/2))\n",
    "    \n",
    "# Display\n",
    "d.setRenderSize(w=600)\n",
    "d"
   ]
  },
  {
   "cell_type": "code",
   "execution_count": null,
   "metadata": {},
   "outputs": [],
   "source": []
  },
  {
   "cell_type": "code",
   "execution_count": null,
   "metadata": {},
   "outputs": [],
   "source": []
  }
 ],
 "metadata": {
  "kernelspec": {
   "display_name": "Python 3",
   "language": "python",
   "name": "python3"
  },
  "language_info": {
   "codemirror_mode": {
    "name": "ipython",
    "version": 3
   },
   "file_extension": ".py",
   "mimetype": "text/x-python",
   "name": "python",
   "nbconvert_exporter": "python",
   "pygments_lexer": "ipython3",
   "version": "3.7.4"
  }
 },
 "nbformat": 4,
 "nbformat_minor": 2
}
