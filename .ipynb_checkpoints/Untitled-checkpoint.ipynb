{
 "cells": [
  {
   "cell_type": "code",
   "execution_count": 134,
   "metadata": {},
   "outputs": [],
   "source": [
    "import drawSvg as draw\n",
    "import math\n",
    "import numpy as np\n",
    "from shapely.geometry import LineString, Point\n",
    "from collections import defaultdict"
   ]
  },
  {
   "cell_type": "markdown",
   "metadata": {},
   "source": [
    "### Parameters"
   ]
  },
  {
   "cell_type": "code",
   "execution_count": 135,
   "metadata": {},
   "outputs": [],
   "source": [
    "WIDTH = 2\n",
    "HEIGHT = 2\n",
    "MAJOR_R = 1\n",
    "# 360 has to be divisible by this value\n",
    "NUM_POINTS = 12\n",
    "STROKE_WIDTH = 0.02\n",
    "SEPARATION = 7.5\n",
    "INNER_P_DETECT = MAJOR_R / 6\n",
    "OUTER_P_DETECT = MAJOR_R / 1.3\n",
    "MAX_SEPARATION = 360 / NUM_POINTS"
   ]
  },
  {
   "cell_type": "code",
   "execution_count": 42,
   "metadata": {},
   "outputs": [],
   "source": [
    "# Helpers\n",
    "\n",
    "def get_line_string(sx,sy,ex,ey):\n",
    "    return LineString([(sx,sy), (ex,ey)])\n",
    "\n",
    "# Draw Construction Lines\n",
    "\n",
    "def add_line_to_svg(ps, color, stroke_width, label):\n",
    "    l = draw.Line(*ps, stroke=color, stroke_width=stroke_width)\n",
    "    l.shape = get_line_string(*ps)\n",
    "    l.label = label\n",
    "    SVG.append(l)\n",
    "    \n",
    "\n",
    "def draw_inner_squares(color, stroke_width):\n",
    "    for t in range(0, 360, round(360/NUM_POINTS)):\n",
    "        rad = np.deg2rad(t)\n",
    "        # sx, sy, ex, ey\n",
    "        ps = np.array((math.cos(rad + math.pi/2),\n",
    "                       math.sin(rad + math.pi/2), \n",
    "                       math.cos(rad), \n",
    "                       math.sin(rad)))*MAJOR_R\n",
    "        add_line_to_svg(ps, color, stroke_width, 'inner_square')\n",
    "        \n",
    "def draw_inner_parallel_lines(color, stroke_width):\n",
    "    t_offset = np.deg2rad(SEPARATION)\n",
    "    for t in range(0, 180, round(360/NUM_POINTS)):\n",
    "        rad = np.deg2rad(t)\n",
    "        ps = np.array((math.cos(rad + math.pi + t_offset),\n",
    "                       math.sin(rad + math.pi + t_offset), \n",
    "                       math.cos(rad - t_offset), \n",
    "                       math.sin(rad - t_offset)))*MAJOR_R\n",
    "        add_line_to_svg(ps, color, stroke_width, 'inner_parallel')\n",
    "\n",
    "\n",
    "        ps = np.array((math.cos(rad + math.pi - t_offset),\n",
    "                       math.sin(rad + math.pi - t_offset), \n",
    "                       math.cos(rad + t_offset), \n",
    "                       math.sin(rad + t_offset)))*MAJOR_R\n",
    "        add_line_to_svg(ps, color, stroke_width, 'inner_parallel')\n",
    "\n",
    "def draw_shape():\n",
    "    global SVG\n",
    "    SVG = draw.Drawing(WIDTH, HEIGHT, origin='center')\n",
    "    # Draw another shape to fill with the same gradient\n",
    "    p = draw.Circle(fill='transparent',cx=0,cy=0, r=MAJOR_R,stroke='red', stroke_width=STROKE_WIDTH)\n",
    "    SVG.append(p)\n",
    "\n",
    "    draw_inner_squares('red', STROKE_WIDTH/4)\n",
    "    draw_inner_parallel_lines('blue', STROKE_WIDTH/4)\n",
    "    return SVG.setRenderSize(w=600)"
   ]
  },
  {
   "cell_type": "code",
   "execution_count": 136,
   "metadata": {},
   "outputs": [],
   "source": [
    "# Helpers\n",
    "\n",
    "def create_line(sx, sy, ex, ey):\n",
    "    return LineString([(sx,sy), (ex,ey)])\n",
    "\n",
    "def draw_inner_squares():\n",
    "    r = []\n",
    "    corners = []\n",
    "    for t in range(0, 360, round(360/NUM_POINTS)):\n",
    "        rad = np.deg2rad(t)\n",
    "        # sx, sy, ex, ey\n",
    "        ps = np.array((math.cos(rad + math.pi/2),\n",
    "                       math.sin(rad + math.pi/2), \n",
    "                       math.cos(rad), \n",
    "                       math.sin(rad)))*MAJOR_R\n",
    "        corners.append(ps)\n",
    "        r.append(create_line(*ps))\n",
    "    return r, corners\n",
    "        \n",
    "def draw_inner_parallel_lines():\n",
    "    r = []\n",
    "    t_offset = np.deg2rad(SEPARATION)\n",
    "    for t in range(0, 180, round(360/NUM_POINTS)):\n",
    "        rad = np.deg2rad(t)\n",
    "        ps = np.array((math.cos(rad + math.pi + t_offset),\n",
    "                       math.sin(rad + math.pi + t_offset), \n",
    "                       math.cos(rad - t_offset), \n",
    "                       math.sin(rad - t_offset)))*MAJOR_R\n",
    "        r.append(create_line(*ps))\n",
    "\n",
    "        ps = np.array((math.cos(rad + math.pi - t_offset),\n",
    "                       math.sin(rad + math.pi - t_offset), \n",
    "                       math.cos(rad + t_offset), \n",
    "                       math.sin(rad + t_offset)))*MAJOR_R\n",
    "        r.append(create_line(*ps))\n",
    "    return r\n",
    "\n",
    "def get_skeleton():\n",
    "    r_elements = []\n",
    "    r, corners = draw_inner_squares()\n",
    "    r_elements += r\n",
    "    r_elements += draw_inner_parallel_lines()\n",
    "    return r_elements, corners"
   ]
  },
  {
   "cell_type": "code",
   "execution_count": 153,
   "metadata": {
    "scrolled": true
   },
   "outputs": [],
   "source": [
    "def get_adjusted_angle(x, y):\n",
    "    return round(np.arctan2(y, x), 6)\n",
    "        \n",
    "\n",
    "def get_base_element(tx, ty):\n",
    "    SVG = draw.Drawing(WIDTH, HEIGHT, origin='center')\n",
    "    lines, corners = get_skeleton()\n",
    "    center = Point(0,0)\n",
    "    ps_dict = defaultdict(list)\n",
    "    for i in range(len(lines)):\n",
    "        l1 = lines[i]\n",
    "        for j in range(i+1, len(lines)):\n",
    "            l2 = lines[j]\n",
    "            p = l1.intersection(l2)\n",
    "            r = round(p.distance(center), 4)\n",
    "            if p and INNER_P_DETECT < r < OUTER_P_DETECT:\n",
    "                p.r = r\n",
    "                p.theta = get_adjusted_angle(p.x, p.y)\n",
    "\n",
    "                ps_dict[p.r].append(p)\n",
    "    distances = sorted(ps_dict.keys())\n",
    "    # Inner star\n",
    "    ps = sorted(ps_dict[distances[2]] + ps_dict[distances[3]] + ps_dict[distances[4]], key=lambda p: p.theta)\n",
    "    x = sum(([p.x + tx, p.y + ty] for p in ps), [])\n",
    "    SVG.append(draw.Lines(*x, fill='transparent', stroke='green', stroke_width=0.015, close=True))\n",
    "\n",
    "    # Middle star\n",
    "    ps = sorted(ps_dict[distances[1]] + ps_dict[distances[2]], key=lambda p: p.theta)\n",
    "    x = sum(([p.x + tx, p.y + ty] for p in ps), [])\n",
    "    SVG.append(draw.Lines(*x, fill='transparent', stroke='green', stroke_width=0.015, close=True))\n",
    "\n",
    "    # Outer star\n",
    "    ps = sorted(ps_dict[distances[0]] + ps_dict[distances[1]], key=lambda p: p.theta)\n",
    "    x = sum(([p.x + tx, p.y + ty] for p in ps), [])\n",
    "    SVG.append(draw.Lines(*x, fill='transparent', stroke='green', stroke_width=0.015, close=True))\n",
    "    \n",
    "    return SVG.elements[-3:], ps_dict[distances[-1]]"
   ]
  },
  {
   "cell_type": "code",
   "execution_count": 162,
   "metadata": {},
   "outputs": [],
   "source": [
    "def draw_star(SVG, x, y):\n",
    "    tx, ty = x, y\n",
    "    elements, corners = get_base_element(tx, ty)\n",
    "    SVG.elements += elements\n",
    "    for p in corners:\n",
    "        SVG.append(draw.Circle(p.x + tx, p.y + ty, 0.025, fill='black'))\n",
    "    SVG.setRenderSize(500,500)\n",
    "    star_d = max(c.distance(corners[0]) for c in corners[1:])\n",
    "    return star_d"
   ]
  },
  {
   "cell_type": "code",
   "execution_count": 213,
   "metadata": {},
   "outputs": [
    {
     "name": "stderr",
     "output_type": "stream",
     "text": [
      "c:\\users\\adam mehina\\appdata\\local\\programs\\python\\python37\\lib\\site-packages\\ipykernel_launcher.py:17: ShapelyDeprecationWarning: Setting custom attributes on geometry objects is deprecated, and will raise an AttributeError in Shapely 2.0\n",
      "c:\\users\\adam mehina\\appdata\\local\\programs\\python\\python37\\lib\\site-packages\\ipykernel_launcher.py:18: ShapelyDeprecationWarning: Setting custom attributes on geometry objects is deprecated, and will raise an AttributeError in Shapely 2.0\n"
     ]
    },
    {
     "data": {
      "text/plain": [
       "1.4641016151377546"
      ]
     },
     "execution_count": 213,
     "metadata": {},
     "output_type": "execute_result"
    }
   ],
   "source": [
    "SVG = draw.Drawing(WIDTH*3, HEIGHT*3, origin='center')\n",
    "r = draw_star(SVG, 0, 0)\n",
    "draw_star(SVG, r, 0)\n",
    "draw_star(SVG, r/2, math.sin(math.pi/2 - (2*math.pi/NUM_POINTS)) * r)"
   ]
  }
 ],
 "metadata": {
  "kernelspec": {
   "display_name": "Python 3",
   "language": "python",
   "name": "python3"
  },
  "language_info": {
   "codemirror_mode": {
    "name": "ipython",
    "version": 3
   },
   "file_extension": ".py",
   "mimetype": "text/x-python",
   "name": "python",
   "nbconvert_exporter": "python",
   "pygments_lexer": "ipython3",
   "version": "3.7.4"
  }
 },
 "nbformat": 4,
 "nbformat_minor": 2
}
