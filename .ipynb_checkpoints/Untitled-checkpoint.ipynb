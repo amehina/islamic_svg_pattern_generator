{
 "cells": [
  {
   "cell_type": "code",
   "execution_count": 619,
   "metadata": {},
   "outputs": [],
   "source": [
    "import drawSvg as draw\n",
    "import math\n",
    "import numpy as np\n",
    "from shapely.geometry import LineString, Point\n",
    "from collections import defaultdict"
   ]
  },
  {
   "cell_type": "markdown",
   "metadata": {},
   "source": [
    "### Parameters"
   ]
  },
  {
   "cell_type": "code",
   "execution_count": 620,
   "metadata": {},
   "outputs": [],
   "source": [
    "WIDTH = 2\n",
    "HEIGHT = 2\n",
    "MAJOR_R = 0.9\n",
    "# 360 has to be divisible by this value\n",
    "NUM_POINTS = 12\n",
    "STROKE_WIDTH = 0.02\n",
    "SEPARATION = 7.5\n",
    "INNER_P_DETECT = MAJOR_R / 6\n",
    "OUTER_P_DETECT = MAJOR_R / 1.3\n",
    "MAX_SEPARATION = 360 / 12"
   ]
  },
  {
   "cell_type": "code",
   "execution_count": 667,
   "metadata": {},
   "outputs": [],
   "source": [
    "# Helpers\n",
    "\n",
    "def get_line_string(sx,sy,ex,ey):\n",
    "    return LineString([(sx,sy), (ex,ey)])\n",
    "\n",
    "# Draw Construction Lines\n",
    "\n",
    "def add_line_to_svg(ps, color, stroke_width, label):\n",
    "    l = draw.Line(*ps, stroke=color, stroke_width=stroke_width)\n",
    "    l.shape = get_line_string(*ps)\n",
    "    l.label = label\n",
    "    SVG.append(l)\n",
    "    \n",
    "\n",
    "def draw_inner_squares(color, stroke_width):\n",
    "    for t in range(0, 360, round(360/NUM_POINTS)):\n",
    "        rad = np.deg2rad(t)\n",
    "        # sx, sy, ex, ey\n",
    "        ps = np.array((math.cos(rad + math.pi/2),\n",
    "                       math.sin(rad + math.pi/2), \n",
    "                       math.cos(rad), \n",
    "                       math.sin(rad)))*MAJOR_R\n",
    "        add_line_to_svg(ps, color, stroke_width, 'inner_square')\n",
    "        \n",
    "def draw_inner_parallel_lines(color, stroke_width):\n",
    "    t_offset = np.deg2rad(SEPARATION)\n",
    "    for t in range(0, 180, round(360/NUM_POINTS)):\n",
    "        rad = np.deg2rad(t)\n",
    "        ps = np.array((math.cos(rad + math.pi + t_offset),\n",
    "                       math.sin(rad + math.pi + t_offset), \n",
    "                       math.cos(rad - t_offset), \n",
    "                       math.sin(rad - t_offset)))*MAJOR_R\n",
    "        add_line_to_svg(ps, color, stroke_width, 'inner_parallel')\n",
    "\n",
    "\n",
    "        ps = np.array((math.cos(rad + math.pi - t_offset),\n",
    "                       math.sin(rad + math.pi - t_offset), \n",
    "                       math.cos(rad + t_offset), \n",
    "                       math.sin(rad + t_offset)))*MAJOR_R\n",
    "        add_line_to_svg(ps, color, stroke_width, 'inner_parallel')\n",
    "\n",
    "def draw_shape():\n",
    "    global SVG\n",
    "    SVG = draw.Drawing(WIDTH, HEIGHT, origin='center')\n",
    "    # Draw another shape to fill with the same gradient\n",
    "    p = draw.Circle(fill='transparent',cx=0,cy=0, r=MAJOR_R,stroke='red', stroke_width=STROKE_WIDTH)\n",
    "    SVG.append(p)\n",
    "\n",
    "    draw_inner_squares('red', STROKE_WIDTH/4)\n",
    "    draw_inner_parallel_lines('blue', STROKE_WIDTH/4)\n",
    "    return SVG.setRenderSize(w=600)"
   ]
  },
  {
   "cell_type": "code",
   "execution_count": 710,
   "metadata": {},
   "outputs": [
    {
     "name": "stderr",
     "output_type": "stream",
     "text": [
      "c:\\users\\adam mehina\\appdata\\local\\programs\\python\\python37\\lib\\site-packages\\ipykernel_launcher.py:17: ShapelyDeprecationWarning: Setting custom attributes on geometry objects is deprecated, and will raise an AttributeError in Shapely 2.0\n",
      "c:\\users\\adam mehina\\appdata\\local\\programs\\python\\python37\\lib\\site-packages\\ipykernel_launcher.py:18: ShapelyDeprecationWarning: Setting custom attributes on geometry objects is deprecated, and will raise an AttributeError in Shapely 2.0\n"
     ]
    },
    {
     "data": {
      "image/svg+xml": [
       "<?xml version=\"1.0\" encoding=\"UTF-8\"?>\n",
       "<svg xmlns=\"http://www.w3.org/2000/svg\" xmlns:xlink=\"http://www.w3.org/1999/xlink\"\n",
       "     width=\"600\" height=\"600.0\" viewBox=\"-1.0 -1.0 2 2\">\n",
       "<defs>\n",
       "</defs>\n",
       "<circle cx=\"0\" cy=\"0\" r=\"0.9\" fill=\"transparent\" stroke=\"red\" stroke-width=\"0.02\" />\n",
       "<path d=\"M5.5109105961630896e-17,-0.9 L0.9,-0.0\" stroke=\"red\" stroke-width=\"0.005\" />\n",
       "<path d=\"M-0.4499999999999998,-0.7794228634059949 L0.7794228634059949,-0.44999999999999996\" stroke=\"red\" stroke-width=\"0.005\" />\n",
       "<path d=\"M-0.7794228634059946,-0.4500000000000003 L0.4500000000000001,-0.7794228634059948\" stroke=\"red\" stroke-width=\"0.005\" />\n",
       "<path d=\"M-0.9,-1.1021821192326179e-16 L5.5109105961630896e-17,-0.9\" stroke=\"red\" stroke-width=\"0.005\" />\n",
       "<path d=\"M-0.779422863405995,0.44999999999999973 L-0.4499999999999998,-0.7794228634059949\" stroke=\"red\" stroke-width=\"0.005\" />\n",
       "<path d=\"M-0.4499999999999997,0.779422863405995 L-0.7794228634059949,-0.44999999999999996\" stroke=\"red\" stroke-width=\"0.005\" />\n",
       "<path d=\"M-1.6532731788489269e-16,0.9 L-0.9,-1.1021821192326179e-16\" stroke=\"red\" stroke-width=\"0.005\" />\n",
       "<path d=\"M0.4500000000000001,0.7794228634059948 L-0.7794228634059948,0.4500000000000001\" stroke=\"red\" stroke-width=\"0.005\" />\n",
       "<path d=\"M0.7794228634059945,0.4500000000000004 L-0.4500000000000004,0.7794228634059946\" stroke=\"red\" stroke-width=\"0.005\" />\n",
       "<path d=\"M0.9,2.2043642384652358e-16 L-1.6532731788489269e-16,0.9\" stroke=\"red\" stroke-width=\"0.005\" />\n",
       "<path d=\"M0.7794228634059948,-0.45 L0.4500000000000001,0.7794228634059948\" stroke=\"red\" stroke-width=\"0.005\" />\n",
       "<path d=\"M0.4500000000000004,-0.7794228634059945 L0.7794228634059945,0.4500000000000004\" stroke=\"red\" stroke-width=\"0.005\" />\n",
       "<path d=\"M-0.8923003752364295,0.1174735729980462 L0.8923003752364294,0.11747357299804642\" stroke=\"blue\" stroke-width=\"0.005\" />\n",
       "<path d=\"M-0.8923003752364294,-0.11747357299804642 L0.8923003752364294,-0.11747357299804642\" stroke=\"blue\" stroke-width=\"0.005\" />\n",
       "<path d=\"M-0.7140180062621119,0.5478852861078483 L0.831491579260158,-0.3444150891285808\" stroke=\"blue\" stroke-width=\"0.005\" />\n",
       "<path d=\"M-0.8314915792601582,0.3444150891285807 L0.7140180062621118,-0.5478852861078485\" stroke=\"blue\" stroke-width=\"0.005\" />\n",
       "<path d=\"M-0.3444150891285813,0.8314915792601579 L0.5478852861078486,-0.7140180062621116\" stroke=\"blue\" stroke-width=\"0.005\" />\n",
       "<path d=\"M-0.5478852861078488,0.7140180062621114 L0.3444150891285809,-0.831491579260158\" stroke=\"blue\" stroke-width=\"0.005\" />\n",
       "<path d=\"M0.11747357299804614,0.8923003752364295 L0.11747357299804655,-0.8923003752364294\" stroke=\"blue\" stroke-width=\"0.005\" />\n",
       "<path d=\"M-0.11747357299804646,0.8923003752364294 L-0.11747357299804645,-0.8923003752364294\" stroke=\"blue\" stroke-width=\"0.005\" />\n",
       "<path d=\"M0.5478852861078479,0.7140180062621122 L-0.34441508912858054,-0.8314915792601582\" stroke=\"blue\" stroke-width=\"0.005\" />\n",
       "<path d=\"M0.34441508912858027,0.8314915792601583 L-0.5478852861078483,-0.7140180062621119\" stroke=\"blue\" stroke-width=\"0.005\" />\n",
       "<path d=\"M0.8314915792601582,0.3444150891285806 L-0.7140180062621118,-0.5478852861078484\" stroke=\"blue\" stroke-width=\"0.005\" />\n",
       "<path d=\"M0.714018006262112,0.5478852861078483 L-0.831491579260158,-0.34441508912858093\" stroke=\"blue\" stroke-width=\"0.005\" />\n",
       "<path d=\"M-0.1604718849886571,0.042998311990610376 L-0.20347019697926788,0.11747357299804628 L-0.11747357299804646,0.1174735729980463 L-0.11747357299804646,0.20347019697926752 L-0.042998311990610945,0.160471884988657 L-2.858383803238059e-16,0.23494714599609276 L0.042998311990610556,0.16047188498865672 L0.1174735729980463,0.20347019697926733 L0.11747357299804632,0.11747357299804632 L0.20347019697926727,0.11747357299804634 L0.1604718849886567,0.04299831199061067 L0.23494714599609273,-1.2108553397806331e-16 L0.16047188498865694,-0.04299831199061078 L0.2034701969792675,-0.11747357299804642 L0.11747357299804637,-0.11747357299804642 L0.1174735729980464,-0.20347019697926771 L0.04299831199061049,-0.16047188498865697 L-1.1523702874156059e-16,-0.2349471459960928 L-0.04299831199061075,-0.1604718849886571 L-0.11747357299804645,-0.20347019697926771 L-0.11747357299804645,-0.11747357299804642 L-0.20347019697926771,-0.11747357299804642 L-0.1604718849886571,-0.04299831199061066 L-0.23494714599609262,-1.6133846004025388e-16 Z\" fill=\"transparent\" stroke=\"green\" stroke-width=\"0.015\" />\n",
       "<path d=\"M-0.43841734297536034,0.11747357299804626 L-0.20347019697926788,0.11747357299804628 L-0.3209437699773142,0.3209437699773139 L-0.11747357299804646,0.20347019697926752 L-0.11747357299804646,0.43841734297535984 L-2.858383803238059e-16,0.23494714599609276 L0.11747357299804624,0.43841734297536095 L0.1174735729980463,0.20347019697926733 L0.320943769977313,0.3209437699773131 L0.20347019697926727,0.11747357299804634 L0.4384173429753607,0.11747357299804637 L0.23494714599609273,-1.2108553397806331e-16 L0.43841734297536034,-0.11747357299804642 L0.2034701969792675,-0.11747357299804642 L0.320943769977314,-0.32094376997731405 L0.1174735729980464,-0.20347019697926771 L0.11747357299804645,-0.4384173429753607 L-1.1523702874156059e-16,-0.2349471459960928 L-0.11747357299804645,-0.43841734297536067 L-0.11747357299804645,-0.20347019697926771 L-0.3209437699773138,-0.32094376997731383 L-0.20347019697926771,-0.11747357299804642 L-0.4384173429753601,-0.11747357299804642 L-0.23494714599609262,-1.6133846004025388e-16 Z\" fill=\"transparent\" stroke=\"green\" stroke-width=\"0.015\" />\n",
       "<path d=\"M-0.6273687777951644,0.11747357299804623 L-0.43841734297536034,0.11747357299804626 L-0.6020540856108303,0.21194929040794822 L-0.4845805126127841,0.4154194873872159 L-0.3209437699773142,0.3209437699773139 L-0.41541948738721635,0.48458051261278373 L-0.21194929040794883,0.6020540856108302 L-0.11747357299804646,0.43841734297535984 L-0.11747357299804646,0.6273687777951645 L0.1174735729980462,0.6273687777951645 L0.11747357299804624,0.43841734297536095 L0.211949290407948,0.6020540856108305 L0.4154194873872156,0.48458051261278434 L0.320943769977313,0.3209437699773131 L0.48458051261278423,0.4154194873872159 L0.6020540856108304,0.2119492904079482 L0.4384173429753607,0.11747357299804637 L0.6273687777951645,0.1174735729980464 L0.6273687777951644,-0.11747357299804642 L0.43841734297536034,-0.11747357299804642 L0.6020540856108303,-0.21194929040794844 L0.484580512612784,-0.4154194873872161 L0.320943769977314,-0.32094376997731405 L0.4154194873872161,-0.4845805126127839 L0.21194929040794838,-0.6020540856108304 L0.11747357299804645,-0.4384173429753607 L0.11747357299804649,-0.6273687777951645 L-0.11747357299804645,-0.6273687777951645 L-0.11747357299804645,-0.43841734297536067 L-0.21194929040794838,-0.6020540856108304 L-0.41541948738721596,-0.48458051261278406 L-0.3209437699773138,-0.32094376997731383 L-0.484580512612784,-0.415419487387216 L-0.6020540856108303,-0.2119492904079485 L-0.4384173429753601,-0.11747357299804642 L-0.6273687777951645,-0.11747357299804642 Z\" fill=\"transparent\" stroke=\"green\" stroke-width=\"0.015\" />\n",
       "</svg>"
      ],
      "text/plain": [
       "<drawSvg.drawing.Drawing at 0x2b4e0d53e48>"
      ]
     },
     "execution_count": 710,
     "metadata": {},
     "output_type": "execute_result"
    }
   ],
   "source": [
    "draw_shape()\n",
    "\n",
    "def get_adjusted_angle(x, y):\n",
    "    return round(np.arctan2(y, x), 6)\n",
    "        \n",
    "\n",
    "lines = [(e.shape, e.label) for e in SVG.elements[1:]]\n",
    "center = Point(0,0)\n",
    "ps_dict = defaultdict(list)\n",
    "for i in range(len(lines)):\n",
    "    l1, _ = lines[i]\n",
    "    for j in range(i+1, len(lines)):\n",
    "        l2, _ = lines[j]\n",
    "        p = l1.intersection(l2)\n",
    "        r = round(p.distance(center), 4)\n",
    "        if p and INNER_P_DETECT < r < OUTER_P_DETECT:\n",
    "            p.r = r\n",
    "            p.theta = get_adjusted_angle(p.x, p.y)\n",
    "           \n",
    "            ps_dict[p.r].append(p)\n",
    "distances = sorted(ps_dict.keys())\n",
    "# range(len(distances) - 1)\n",
    "for i in range(len(distances)-2):\n",
    "    ps = sorted(ps_dict[distances[i]] + ps_dict[distances[i+1]], key=lambda p: p.theta)\n",
    "    x = sum(([p.x, p.y] for p in ps), [])\n",
    "    SVG.append(draw.Lines(*x, fill='transparent', stroke='green', stroke_width=0.015, close=True))\n",
    "SVG"
   ]
  },
  {
   "cell_type": "code",
   "execution_count": 702,
   "metadata": {},
   "outputs": [
    {
     "data": {
      "text/plain": [
       "[<shapely.geometry.point.Point at 0x2b4e0d45bc8>,\n",
       " <shapely.geometry.point.Point at 0x2b4e0d41b48>,\n",
       " <shapely.geometry.point.Point at 0x2b4e0a69588>,\n",
       " <shapely.geometry.point.Point at 0x2b4e0d41c48>,\n",
       " <shapely.geometry.point.Point at 0x2b4e0c3b808>,\n",
       " <shapely.geometry.point.Point at 0x2b4e0d39b08>,\n",
       " <shapely.geometry.point.Point at 0x2b4e0dcfc08>,\n",
       " <shapely.geometry.point.Point at 0x2b4e0dcf688>,\n",
       " <shapely.geometry.point.Point at 0x2b4e0aaf9c8>,\n",
       " <shapely.geometry.point.Point at 0x2b4e0d413c8>,\n",
       " <shapely.geometry.point.Point at 0x2b4e0d41308>,\n",
       " <shapely.geometry.point.Point at 0x2b4e0d418c8>,\n",
       " <shapely.geometry.point.Point at 0x2b4e0d41d88>,\n",
       " <shapely.geometry.point.Point at 0x2b4e0d45908>,\n",
       " <shapely.geometry.point.Point at 0x2b4e0d41a08>,\n",
       " <shapely.geometry.point.Point at 0x2b4e0d45348>,\n",
       " <shapely.geometry.point.Point at 0x2b4e0d416c8>,\n",
       " <shapely.geometry.point.Point at 0x2b4e0d45708>,\n",
       " <shapely.geometry.point.Point at 0x2b4e0d45548>,\n",
       " <shapely.geometry.point.Point at 0x2b4e0d45648>,\n",
       " <shapely.geometry.point.Point at 0x2b4e0a69908>,\n",
       " <shapely.geometry.point.Point at 0x2b4e0a69f88>,\n",
       " <shapely.geometry.point.Point at 0x2b4e0d45d08>,\n",
       " <shapely.geometry.point.Point at 0x2b4e0d41b08>]"
      ]
     },
     "execution_count": 702,
     "metadata": {},
     "output_type": "execute_result"
    }
   ],
   "source": []
  },
  {
   "cell_type": "code",
   "execution_count": null,
   "metadata": {},
   "outputs": [],
   "source": []
  }
 ],
 "metadata": {
  "kernelspec": {
   "display_name": "Python 3",
   "language": "python",
   "name": "python3"
  },
  "language_info": {
   "codemirror_mode": {
    "name": "ipython",
    "version": 3
   },
   "file_extension": ".py",
   "mimetype": "text/x-python",
   "name": "python",
   "nbconvert_exporter": "python",
   "pygments_lexer": "ipython3",
   "version": "3.7.4"
  }
 },
 "nbformat": 4,
 "nbformat_minor": 2
}
